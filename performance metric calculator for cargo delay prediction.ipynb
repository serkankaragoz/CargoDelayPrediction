{
 "cells": [
  {
   "cell_type": "markdown",
   "id": "01e46f1a",
   "metadata": {},
   "source": [
    "### OCI Data Science - Useful Tips\n",
    "<details>\n",
    "<summary><font size=\"2\">Check for Public Internet Access</font></summary>\n",
    "\n",
    "```python\n",
    "import requests\n",
    "response = requests.get(\"https://oracle.com\")\n",
    "assert response.status_code==200, \"Internet connection failed\"\n",
    "```\n",
    "</details>\n",
    "<details>\n",
    "<summary><font size=\"2\">Helpful Documentation </font></summary>\n",
    "<ul><li><a href=\"https://docs.cloud.oracle.com/en-us/iaas/data-science/using/data-science.htm\">Data Science Service Documentation</a></li>\n",
    "<li><a href=\"https://docs.cloud.oracle.com/iaas/tools/ads-sdk/latest/index.html\">ADS documentation</a></li>\n",
    "</ul>\n",
    "</details>\n",
    "<details>\n",
    "<summary><font size=\"2\">Typical Cell Imports and Settings for ADS</font></summary>\n",
    "\n",
    "```python\n",
    "%load_ext autoreload\n",
    "%autoreload 2\n",
    "%matplotlib inline\n",
    "\n",
    "import warnings\n",
    "warnings.filterwarnings('ignore')\n",
    "\n",
    "import logging\n",
    "logging.basicConfig(format='%(levelname)s:%(message)s', level=logging.ERROR)\n",
    "\n",
    "import ads\n",
    "from ads.dataset.factory import DatasetFactory\n",
    "from ads.automl.provider import OracleAutoMLProvider\n",
    "from ads.automl.driver import AutoML\n",
    "from ads.evaluations.evaluator import ADSEvaluator\n",
    "from ads.common.data import ADSData\n",
    "from ads.explanations.explainer import ADSExplainer\n",
    "from ads.explanations.mlx_global_explainer import MLXGlobalExplainer\n",
    "from ads.explanations.mlx_local_explainer import MLXLocalExplainer\n",
    "from ads.catalog.model import ModelCatalog\n",
    "from ads.common.model_artifact import ModelArtifact\n",
    "```\n",
    "</details>\n",
    "<details>\n",
    "<summary><font size=\"2\">Useful Environment Variables</font></summary>\n",
    "\n",
    "```python\n",
    "import os\n",
    "print(os.environ[\"NB_SESSION_COMPARTMENT_OCID\"])\n",
    "print(os.environ[\"PROJECT_OCID\"])\n",
    "print(os.environ[\"USER_OCID\"])\n",
    "print(os.environ[\"TENANCY_OCID\"])\n",
    "print(os.environ[\"NB_REGION\"])\n",
    "```\n",
    "</details>"
   ]
  },
  {
   "cell_type": "markdown",
   "id": "0eef5f60",
   "metadata": {},
   "source": [
    "## This notebook just constructs train - test data and produces performance metrics."
   ]
  },
  {
   "cell_type": "code",
   "execution_count": 1,
   "id": "c623b838",
   "metadata": {},
   "outputs": [],
   "source": [
    "from pyspark.sql import SparkSession\n",
    "from pandas import isna\n",
    "\n",
    "\n",
    "import datetime\n",
    "import time"
   ]
  },
  {
   "cell_type": "code",
   "execution_count": null,
   "id": "ca1edd94",
   "metadata": {},
   "outputs": [],
   "source": [
    "path = \"CARGO_FOTP_DATASET_NEW.csv\" # the path of file where datas will retrieved"
   ]
  },
  {
   "cell_type": "code",
   "execution_count": 2,
   "id": "9d37b57c",
   "metadata": {},
   "outputs": [],
   "source": [
    "import traceback\n",
    "\n",
    "class invalid_date_exception(Exception):\n",
    "    pass\n",
    "\n",
    "\n",
    "\n",
    "class date():\n",
    "    \n",
    "    # {1:31, 2:28, 3:31, 4:30, 5:31, 6:30, 7:31, 8:31, 9:30, 10:31, 11:30, 12:31}\n",
    "    # The object that specified above and used multiple time on date class, enables us to store length of months. \n",
    "    \n",
    "    \n",
    "    # returns True if the date object has valid date values.\n",
    "    def is_date_valid(self):\n",
    "        \n",
    "        \n",
    "        \n",
    "        if(self.month > 12):\n",
    "            return False\n",
    "        elif(self.month == 2 and self.year % 4 == 0 and self.day == 29):\n",
    "            return True\n",
    "        elif(self.day > {1:31, 2:28, 3:31, 4:30, 5:31, 6:30, 7:31, 8:31, 9:30, 10:31, 11:30, 12:31}[self.month]): \n",
    "            return False\n",
    "        return True        \n",
    "\n",
    "    # date variable is an integer which writeen as YYYYMMDD\n",
    "    # time variable is an integer which writeen as HHMM\n",
    "    \n",
    "    def __init__(self, date, time):\n",
    "        \n",
    "        #try:\n",
    "            \n",
    "        date = str(date)\n",
    "        dl = len(date) # length of date variable\n",
    "\n",
    "        dl -= 4 \n",
    "\n",
    "        self.year = int(date[0:dl])\n",
    "        self.month = int(date[dl: dl + 2])\n",
    "        self.day = int(date[dl + 2:dl + 4])\n",
    "        self.date = int(date)\n",
    "\n",
    "        if(not self.is_date_valid()):\n",
    "            raise invalid_date_exception(\"ERROR: Invalid date entry detected\")\n",
    "        \n",
    "        \n",
    "        time = str(time)\n",
    "        tl = len(time) # length of time variable\n",
    "        \n",
    "        if(tl <= 2):\n",
    "            self.hour = 0\n",
    "            self.minute = int(time)\n",
    "        else:\n",
    "            self.hour = int(time[0:tl-2])\n",
    "            self.minute = int(time[tl-2:tl])\n",
    "        \n",
    "        \n",
    "\n",
    "    def print_date(self):\n",
    "        print(\"Year:\" + str(self.year) + \", Month:\" + str(self.month) + \", Day:\" + str(self.day))\n",
    "    \n",
    "    def get_date(self):\n",
    "        return self.date\n",
    "    \n",
    "    def get_year(self):\n",
    "        return self.year\n",
    "    \n",
    "    \n",
    "    # updates the variables of date object with the date that one day later.\n",
    "    def add_one_day(self):\n",
    "        \n",
    "        #month_length = {1:31, 2:28, 3:31, 4:30, 5:31, 6:30, 7:31, 8:31, 9:30, 10:31, 11:30, 12:31}\n",
    "        \n",
    "        if(self.is_date_valid() is False):\n",
    "            raise invalid_date_exception(\"ERROR: Invalid date entry detected\")\n",
    "        \n",
    "        if(self.day < {1:31, 2:28, 3:31, 4:30, 5:31, 6:30, 7:31, 8:31, 9:30, 10:31, 11:30, 12:31}[self.month]):\n",
    "            self.day += 1\n",
    "        elif(self.month == 2 and self.year % 4 == 0 and self.day < 29):\n",
    "            #self.day = 1\n",
    "            self.day += 1\n",
    "        elif(self.month < 12):\n",
    "            self.day = 1\n",
    "            self.month += 1\n",
    "        else:\n",
    "            self.day = 1\n",
    "            self.month = 1\n",
    "            self.year += 1\n",
    "            \n",
    "        month_str = str(self.month)\n",
    "        if(len(month_str) == 1):\n",
    "            month_str = \"0\" + month_str\n",
    "            \n",
    "        day_str = str(self.day)\n",
    "        if(len(day_str) == 1):\n",
    "            day_str = \"0\" + day_str\n",
    "            \n",
    "        self.date = int(str(self.year) + month_str + day_str)\n",
    "        \n",
    "      \n",
    "\n",
    "    # returns the elapsed day between two date\n",
    "    def get_day_elapsed(date_start, date_end):\n",
    "        day_elapsed = 0\n",
    "        coeff = 1 # if date_start is later than date_end, this value will be -1\n",
    "        \n",
    "        if(date_start.date > date_end.date):\n",
    "            date_temp = date_start\n",
    "            date_start = date_end\n",
    "            date_end = date_temp        \n",
    "            coeff = -1\n",
    "            \n",
    "        while(date_start.date != date_end.date):\n",
    "            date_start.add_one_day()\n",
    "            day_elapsed += 1\n",
    "        \n",
    "        return day_elapsed * coeff\n",
    "            \n",
    "        \n",
    "        \n",
    "     # returns the elapsed minute between two date\n",
    "    def get_minute_elapsed(date_start, date_end):\n",
    "        day_elapsed = date.get_day_elapsed(date_start, date_end)\n",
    "        \n",
    "        hour_elapsed = date_end.hour - date_start.hour\n",
    "        minute_elapsed = date_end.minute - date_start.minute\n",
    "        \n",
    "        return day_elapsed * 60 * 24 + hour_elapsed * 60 + minute_elapsed"
   ]
  },
  {
   "cell_type": "code",
   "execution_count": 4,
   "id": "129a2642",
   "metadata": {},
   "outputs": [
    {
     "name": "stderr",
     "output_type": "stream",
     "text": [
      "SLF4J: Class path contains multiple SLF4J bindings.\n",
      "SLF4J: Found binding in [jar:file:/home/datascience/spark_conf_dir/oci-hdfs-full-3.3.0.6.jar!/org/slf4j/impl/StaticLoggerBinder.class]\n",
      "SLF4J: Found binding in [jar:file:/home/datascience/conda/pyspark30_p37_cpu_v2/lib/python3.7/site-packages/pyspark/jars/slf4j-log4j12-1.7.30.jar!/org/slf4j/impl/StaticLoggerBinder.class]\n",
      "SLF4J: See http://www.slf4j.org/codes.html#multiple_bindings for an explanation.\n",
      "SLF4J: Actual binding is of type [org.apache.logging.slf4j.Log4jLoggerFactory]\n"
     ]
    }
   ],
   "source": [
    "spark = SparkSession \\\n",
    "        .builder \\\n",
    "        .appName(\"Kargo tehir tahminleme deneme\") \\\n",
    "        .getOrCreate()"
   ]
  },
  {
   "cell_type": "code",
   "execution_count": 5,
   "id": "d29068a0",
   "metadata": {},
   "outputs": [
    {
     "name": "stderr",
     "output_type": "stream",
     "text": [
      "                                                                                \r"
     ]
    }
   ],
   "source": [
    "\n",
    "df = spark.read.format('com.databricks.spark.csv') \\\n",
    "            .options(header='true', inferschema='true') \\\n",
    "            .load(path, header=True);\n",
    "# veriler okunuyor\n"
   ]
  },
  {
   "cell_type": "code",
   "execution_count": 7,
   "id": "f81d0464",
   "metadata": {},
   "outputs": [],
   "source": [
    "# the function checks whether delay occurs or not with reading TOT_DELAY_DURATION column\n",
    "def is_delayed(x):\n",
    "    if int(x) > 0:\n",
    "        return \"DELAYED\"\n",
    "    else: \n",
    "        return \"NOT_DELAYED\"\n",
    "    \n",
    "    \n",
    "    \n",
    "\n",
    "from pyspark.sql.functions import udf\n",
    "from pyspark.sql.types import StringType, IntegerType\n",
    "\n",
    "is_delayed_udf = udf(lambda x: is_delayed(x), StringType())\n",
    "df = df.withColumn(\"IS_DELAYED\", is_delayed_udf(\"TOT_DELAY_DURATION\"))"
   ]
  },
  {
   "cell_type": "code",
   "execution_count": 8,
   "id": "64d8988c",
   "metadata": {},
   "outputs": [
    {
     "name": "stderr",
     "output_type": "stream",
     "text": [
      "                                                                                \r"
     ]
    },
    {
     "data": {
      "text/html": [
       "<div>\n",
       "<style scoped>\n",
       "    .dataframe tbody tr th:only-of-type {\n",
       "        vertical-align: middle;\n",
       "    }\n",
       "\n",
       "    .dataframe tbody tr th {\n",
       "        vertical-align: top;\n",
       "    }\n",
       "\n",
       "    .dataframe thead th {\n",
       "        text-align: right;\n",
       "    }\n",
       "</style>\n",
       "<table border=\"1\" class=\"dataframe\">\n",
       "  <thead>\n",
       "    <tr style=\"text-align: right;\">\n",
       "      <th></th>\n",
       "      <th>IS_DELAYED</th>\n",
       "      <th>count</th>\n",
       "    </tr>\n",
       "  </thead>\n",
       "  <tbody>\n",
       "    <tr>\n",
       "      <th>0</th>\n",
       "      <td>DELAYED</td>\n",
       "      <td>63399</td>\n",
       "    </tr>\n",
       "    <tr>\n",
       "      <th>1</th>\n",
       "      <td>NOT_DELAYED</td>\n",
       "      <td>36147</td>\n",
       "    </tr>\n",
       "  </tbody>\n",
       "</table>\n",
       "</div>"
      ],
      "text/plain": [
       "    IS_DELAYED  count\n",
       "0      DELAYED  63399\n",
       "1  NOT_DELAYED  36147"
      ]
     },
     "execution_count": 8,
     "metadata": {},
     "output_type": "execute_result"
    }
   ],
   "source": [
    "df.groupBy(\"IS_DELAYED\").count().toPandas()"
   ]
  },
  {
   "cell_type": "code",
   "execution_count": 9,
   "id": "1b19208a",
   "metadata": {},
   "outputs": [
    {
     "name": "stdout",
     "output_type": "stream",
     "text": [
      "ratio: 2\n",
      "0.04274106025695801\n"
     ]
    }
   ],
   "source": [
    "#Multiplying delay occured flights by 2 \n",
    "\n",
    "from pyspark.sql.functions import col, explode, array, lit\n",
    "\n",
    "major_df = df.filter(col(\"IS_DELAYED\") == \"DELAYED\")\n",
    "minor_df = df.filter(col(\"IS_DELAYED\") == \"NOT_DELAYED\")\n",
    "ratio = 2\n",
    "print(\"ratio: {}\".format(ratio))"
   ]
  },
  {
   "cell_type": "code",
   "execution_count": 10,
   "id": "8304b7bd",
   "metadata": {},
   "outputs": [
    {
     "name": "stdout",
     "output_type": "stream",
     "text": [
      "0.18813729286193848\n"
     ]
    }
   ],
   "source": [
    "a = range(ratio)\n",
    "oversampled_df = minor_df.withColumn(\"dummy\", explode(array([lit(x) for x in a]))).drop('dummy')\n",
    "\n",
    "# combining delay occured flights with copied rows\n",
    "combined_df = major_df.unionAll(oversampled_df)\n",
    "df = combined_df"
   ]
  },
  {
   "cell_type": "code",
   "execution_count": null,
   "id": "ba96960f",
   "metadata": {},
   "outputs": [],
   "source": [
    "df.groupBy(\"IS_DELAYED\").count().toPandas()"
   ]
  },
  {
   "cell_type": "code",
   "execution_count": 11,
   "id": "f5dacf8b",
   "metadata": {},
   "outputs": [],
   "source": [
    "#df = df.dropna()"
   ]
  },
  {
   "cell_type": "code",
   "execution_count": 12,
   "id": "5572c463",
   "metadata": {},
   "outputs": [],
   "source": [
    "# functions that returns dates written as YYYYMMDD to year, month, or day\n",
    "def date_to_year(x):\n",
    "    return int(str(x)[0:4])\n",
    "\n",
    "def date_to_month(x):\n",
    "    return int(str(x)[4:6])\n",
    "\n",
    "def date_to_day(x):\n",
    "    return int(str(x)[6:8])"
   ]
  },
  {
   "cell_type": "code",
   "execution_count": 13,
   "id": "273b03b4",
   "metadata": {},
   "outputs": [],
   "source": [
    "# functions that returns times written as HHMM to hour or minute\n",
    "def time_to_hour(x):\n",
    "    \n",
    "    d = len(str(x)) # tam sayının basamak sayısı\n",
    "    x = int(x)\n",
    "    \n",
    "    if(d <= 2):\n",
    "        return 0\n",
    "    return int(str(x)[0:d-2]) \n",
    "    \n",
    "def time_to_minute(x):\n",
    "    \n",
    "    d = len(str(x)) # tam sayının basamak sayısı\n",
    "    x = int(x)\n",
    "    \n",
    "    if(d <= 2):\n",
    "        return x   \n",
    "    return int(str(x)[d-2:d])"
   ]
  },
  {
   "cell_type": "code",
   "execution_count": 14,
   "id": "794debb8",
   "metadata": {},
   "outputs": [],
   "source": [
    "# returns minute elapsed between two dates\n",
    "def get_flight_time(date1, time1, date2, time2): \n",
    "    return date.get_minute_elapsed(date(date1, time1), date(date2, time2))"
   ]
  },
  {
   "cell_type": "code",
   "execution_count": 15,
   "id": "fc50fa0d",
   "metadata": {},
   "outputs": [],
   "source": [
    "get_flight_time_udf = udf(lambda d1, t1, d2, t2: get_flight_time(d1, t1, d2, t2), IntegerType())"
   ]
  },
  {
   "cell_type": "code",
   "execution_count": 16,
   "id": "378e27a7",
   "metadata": {},
   "outputs": [],
   "source": [
    "df = df.withColumn(\"MINUTE_ELAPSED\", get_flight_time_udf(\"LEG_DEP_GMT_DT\", \"LEG_DEP_GMT_TM\", \"LEG_ARR_GMT_DT\", \"LEG_ARR_GMT_TM\"))"
   ]
  },
  {
   "cell_type": "code",
   "execution_count": 17,
   "id": "86a78b3f",
   "metadata": {},
   "outputs": [],
   "source": [
    "date_to_year_udf = udf(lambda x: date_to_year(x), IntegerType())\n",
    "date_to_month_udf = udf(lambda x: date_to_month(x), IntegerType())\n",
    "date_to_day_udf = udf(lambda x: date_to_day(x), IntegerType())\n",
    "time_to_hour_udf = udf(lambda x: time_to_hour(x), IntegerType())\n",
    "time_to_minute_udf = udf(lambda x: time_to_minute(x), IntegerType())"
   ]
  },
  {
   "cell_type": "code",
   "execution_count": 18,
   "id": "ebb1cbdb",
   "metadata": {},
   "outputs": [],
   "source": [
    "from pyspark.sql.functions import udf\n",
    "from pyspark.sql.types import StringType, IntegerType\n",
    "\n",
    "# producing new columns with data obtained LEG_DEP_GMT_DT and LEG_DEP_GMT_TM column \n",
    "df = df.withColumn(\"LEG_DEP_GMT_YEAR\", date_to_year_udf(\"LEG_DEP_GMT_DT\"))\n",
    "df = df.withColumn(\"LEG_DEP_GMT_MONTH\", date_to_month_udf(\"LEG_DEP_GMT_DT\"))\n",
    "df = df.withColumn(\"LEG_DEP_GMT_DAY\", date_to_day_udf(\"LEG_DEP_GMT_DT\"))\n",
    "\n",
    "\n",
    "df = df.withColumn(\"LEG_DEP_GMT_HOUR\", time_to_hour_udf(\"LEG_DEP_GMT_TM\"))\n",
    "df = df.withColumn(\"LEG_DEP_GMT_MINUTE\", time_to_minute_udf(\"LEG_DEP_GMT_TM\"))"
   ]
  },
  {
   "cell_type": "code",
   "execution_count": 19,
   "id": "37bf256d",
   "metadata": {},
   "outputs": [],
   "source": [
    "# producing new columns with data obtained LEG_ARR_GMT_DT and LEG_ARR_GMT_TM column \n",
    "df = df.withColumn(\"LEG_ARR_GMT_YEAR\", date_to_year_udf(\"LEG_ARR_GMT_DT\"))\n",
    "df = df.withColumn(\"LEG_ARR_GMT_MONTH\", date_to_month_udf(\"LEG_ARR_GMT_DT\"))\n",
    "df = df.withColumn(\"LEG_ARR_GMT_DAY\", date_to_day_udf(\"LEG_ARR_GMT_DT\"))\n",
    "\n",
    "df = df.withColumn(\"LEG_ARR_GMT_HOUR\", time_to_hour_udf(\"LEG_ARR_GMT_TM\"))\n",
    "df = df.withColumn(\"LEG_ARR_GMT_MINUTE\", time_to_minute_udf(\"LEG_ARR_GMT_TM\"))"
   ]
  },
  {
   "cell_type": "code",
   "execution_count": 20,
   "id": "14222e1e",
   "metadata": {},
   "outputs": [
    {
     "name": "stderr",
     "output_type": "stream",
     "text": [
      "[Stage 5:>                                                          (0 + 1) / 1]\r"
     ]
    },
    {
     "name": "stdout",
     "output_type": "stream",
     "text": [
      "+--------------+--------------+--------------+--------------+--------------+\n",
      "|LEG_DEP_GMT_DT|LEG_DEP_GMT_TM|LEG_ARR_GMT_DT|LEG_ARR_GMT_TM|MINUTE_ELAPSED|\n",
      "+--------------+--------------+--------------+--------------+--------------+\n",
      "|      20210526|          1717|      20210527|            49|           452|\n",
      "|      20210509|          2208|      20210509|          2329|            81|\n",
      "|      20210516|          2137|      20210516|          2259|            82|\n",
      "|      20210520|           209|      20210520|           318|            69|\n",
      "|      20210523|          2145|      20210523|          2257|            72|\n",
      "+--------------+--------------+--------------+--------------+--------------+\n",
      "only showing top 5 rows\n",
      "\n"
     ]
    },
    {
     "name": "stderr",
     "output_type": "stream",
     "text": [
      "                                                                                \r"
     ]
    }
   ],
   "source": [
    "#df.select([\"LEG_DEP_GMT_DT\", \"LEG_DEP_GMT_TM\", \"LEG_ARR_GMT_DT\", \"LEG_ARR_GMT_TM\",\"MINUTE_ELAPSED\"]).show(5)"
   ]
  },
  {
   "cell_type": "code",
   "execution_count": null,
   "id": "e264e0f7",
   "metadata": {},
   "outputs": [],
   "source": [
    "length_udf = udf(lambda x: len(str(x)), IntegerType())\n",
    "df = df.withColumn(\"LEG_ARR_GMT_DT_LENGTH\", length_udf(\"LEG_ARR_GMT_DT\"))"
   ]
  },
  {
   "cell_type": "code",
   "execution_count": 23,
   "id": "dbd5fd54",
   "metadata": {},
   "outputs": [],
   "source": [
    "df = df.filter(df[\"LEG_ARR_GMT_DT_LENGTH\"] == 8) \n",
    "\n",
    "# removing the row on which has 8 digit number on LEG_ARR_GMT_DT column that causes error"
   ]
  },
  {
   "cell_type": "code",
   "execution_count": 26,
   "id": "c082086d",
   "metadata": {},
   "outputs": [],
   "source": [
    "# a function which converts the columns hasn't digital values to a shape that StringIndexer and VectorIndexer can understand\n",
    "\n",
    "def get_dummy(df,categoricalCols,continuousCols,labelCol):\n",
    "    from pyspark.ml import Pipeline\n",
    "    from pyspark.ml.feature import StringIndexer, OneHotEncoder, VectorAssembler\n",
    "    from pyspark.sql.functions import col\n",
    "    indexers = [ StringIndexer(inputCol=c, outputCol=\"{0}_indexed\".format(c)) for c in categoricalCols ]\n",
    "    # default setting: dropLast=True\n",
    "    encoders = [ OneHotEncoder(inputCol=indexer.getOutputCol(),outputCol=\"{0}_encoded\".format(indexer.getOutputCol())) for indexer in indexers ]\n",
    "    assembler = VectorAssembler(inputCols=[encoder.getOutputCol() for encoder in encoders] + continuousCols, outputCol=\"features\")\n",
    "    pipeline = Pipeline(stages=indexers + encoders + [assembler])\n",
    "    model=pipeline.fit(df)\n",
    "    data = model.transform(df)\n",
    "    data = data.withColumn('label',col(labelCol))\n",
    "    return data.select('features','label')"
   ]
  },
  {
   "cell_type": "code",
   "execution_count": 27,
   "id": "12b2d3ff",
   "metadata": {},
   "outputs": [],
   "source": [
    "categoricalCols = ['FLEET_FAM','FLEET_FAM_GRP','FLT_TYP','LEG_DEP_AP','LEG_DEP_CNTRY_COD','LEG_DEP_RGN_COD','LEG_ARR_AP','LEG_ARR_CNTRY_COD','LEG_ACT_ARR_RGN_COD']\n",
    "#continuousCols = ['LEG_DEP_GMT_YEAR','LEG_DEP_GMT_MONTH','LEG_DEP_GMT_DAY','LEG_DEP_GMT_HOUR','LEG_DEP_GMT_MINUTE','LEG_ARR_GMT_YEAR','LEG_ARR_GMT_MONTH','LEG_ARR_GMT_DAY','LEG_ARR_GMT_HOUR','LEG_ARR_GMT_MINUTE']\n",
    "#continuousCols = ['LEG_DEP_GMT_YEAR','LEG_DEP_GMT_MONTH','LEG_DEP_GMT_DAY','LEG_DEP_GMT_HOUR','LEG_DEP_GMT_MINUTE','LEG_ARR_GMT_YEAR','LEG_ARR_GMT_HOUR','LEG_ARR_GMT_MINUTE']\n",
    "\n",
    "#categoricalCols = ['FLT_TYP','LEG_DEP_CNTRY_COD','LEG_DEP_RGN_COD','LEG_ARR_AP','LEG_ARR_CNTRY_COD']\n",
    "continuousCols = ['LEG_DEP_GMT_YEAR','MINUTE_ELAPSED']\n",
    "labelCol = 'IS_DELAYED'\n",
    "#labelCol = 'DELAY1_SUB_CODE'\n",
    "# columns that are useful for machine learning"
   ]
  },
  {
   "cell_type": "code",
   "execution_count": 28,
   "id": "f67d4c40",
   "metadata": {},
   "outputs": [
    {
     "name": "stderr",
     "output_type": "stream",
     "text": [
      "                                                                                \r"
     ]
    }
   ],
   "source": [
    "df_features = get_dummy(df,categoricalCols,continuousCols,labelCol)"
   ]
  },
  {
   "cell_type": "code",
   "execution_count": 30,
   "id": "af03593f",
   "metadata": {},
   "outputs": [],
   "source": [
    "from pyspark.ml.linalg import Vectors # !!!! NOT from pyspark.mllib.linalg import Vectors !!!!\n",
    "from pyspark.ml import Pipeline\n",
    "from pyspark.ml.feature import IndexToString,StringIndexer, VectorIndexer\n",
    "from pyspark.ml.tuning import CrossValidator, ParamGridBuilder\n",
    "from pyspark.ml.evaluation import MulticlassClassificationEvaluator\n",
    "\n",
    "def transData(data):\n",
    "    return data.rdd.map(lambda r: [Vectors.dense(r[:-1]),r[-1]]).toDF(['features','label'])"
   ]
  },
  {
   "cell_type": "code",
   "execution_count": 31,
   "id": "e302cf25",
   "metadata": {},
   "outputs": [
    {
     "name": "stderr",
     "output_type": "stream",
     "text": [
      "[Stage 26:>                                                         (0 + 1) / 1]\r"
     ]
    },
    {
     "name": "stdout",
     "output_type": "stream",
     "text": [
      "+--------------------+-------+------------+\n",
      "|            features|  label|indexedLabel|\n",
      "+--------------------+-------+------------+\n",
      "|(664,[0,9,17,218,...|DELAYED|         1.0|\n",
      "|(664,[0,9,78,223,...|DELAYED|         1.0|\n",
      "|(664,[0,9,78,223,...|DELAYED|         1.0|\n",
      "|(664,[0,9,78,223,...|DELAYED|         1.0|\n",
      "|(664,[0,9,78,223,...|DELAYED|         1.0|\n",
      "+--------------------+-------+------------+\n",
      "only showing top 5 rows\n",
      "\n"
     ]
    },
    {
     "name": "stderr",
     "output_type": "stream",
     "text": [
      "                                                                                \r"
     ]
    }
   ],
   "source": [
    "labelIndexer = StringIndexer(inputCol='label', outputCol='indexedLabel').fit(df_features)\n",
    "#df_features\n",
    "labelIndexer.transform(df_features).show(5, True)"
   ]
  },
  {
   "cell_type": "code",
   "execution_count": 33,
   "id": "76639651",
   "metadata": {},
   "outputs": [
    {
     "name": "stderr",
     "output_type": "stream",
     "text": [
      "                                                                                \r"
     ]
    },
    {
     "name": "stdout",
     "output_type": "stream",
     "text": [
      "+--------------------+-------+--------------------+\n",
      "|            features|  label|     indexedFeatures|\n",
      "+--------------------+-------+--------------------+\n",
      "|(664,[0,9,17,218,...|DELAYED|(664,[0,9,17,218,...|\n",
      "|(664,[0,9,78,223,...|DELAYED|(664,[0,9,78,223,...|\n",
      "|(664,[0,9,78,223,...|DELAYED|(664,[0,9,78,223,...|\n",
      "|(664,[0,9,78,223,...|DELAYED|(664,[0,9,78,223,...|\n",
      "|(664,[0,9,78,223,...|DELAYED|(664,[0,9,78,223,...|\n",
      "+--------------------+-------+--------------------+\n",
      "only showing top 5 rows\n",
      "\n"
     ]
    },
    {
     "name": "stderr",
     "output_type": "stream",
     "text": [
      "                                                                                \r"
     ]
    }
   ],
   "source": [
    "featureIndexer =VectorIndexer(inputCol=\"features\", outputCol=\"indexedFeatures\", maxCategories=4).fit(df_features)\n",
    "featureIndexer.transform(df_features).show(5, True)"
   ]
  },
  {
   "cell_type": "code",
   "execution_count": 35,
   "id": "032dc0f5",
   "metadata": {},
   "outputs": [],
   "source": [
    "from pyspark.sql.functions import monotonically_increasing_id"
   ]
  },
  {
   "cell_type": "code",
   "execution_count": 36,
   "id": "7253f88c",
   "metadata": {},
   "outputs": [],
   "source": [
    "# merging df and df_features DataFrames.\n",
    "\n",
    "df_features = df_features.withColumn(\"id\", monotonically_increasing_id())\n",
    "\n",
    "df = df.withColumn(\"id\", monotonically_increasing_id())\n",
    "\n",
    "df_features_cols = df_features.columns\n",
    "df_features_cols.remove('id')\n",
    "\n",
    "df_cols = df.columns\n",
    "df_cols.remove('id')\n",
    "\n",
    "df_merged = df.join(df_features, df[\"id\"] == df_features[\"id\"])"
   ]
  },
  {
   "cell_type": "code",
   "execution_count": 37,
   "id": "e1485bc8",
   "metadata": {},
   "outputs": [],
   "source": [
    "# data is, splitting to train and test data. (%40 for the test)\n",
    "df_merged_train, df_merged_test = df_merged.randomSplit([0.6, 0.4], seed = 2018)\n",
    "\n",
    "(trainingData, testData) = df_merged_train.select(df_features_cols), df_merged_test.select(df_features_cols)\n",
    "(trainingDF, testDF) = df_merged_train.select(df_cols), df_merged_test.select(df_cols)"
   ]
  },
  {
   "cell_type": "code",
   "execution_count": 38,
   "id": "ee47c608",
   "metadata": {},
   "outputs": [],
   "source": [
    "from pyspark.ml.classification import LogisticRegression\n",
    "logr = LogisticRegression(featuresCol='indexedFeatures', labelCol = 'indexedLabel')\n",
    "# applying logistic regression since the value we need to predict has only two possible result."
   ]
  },
  {
   "cell_type": "code",
   "execution_count": 39,
   "id": "d4367da6",
   "metadata": {},
   "outputs": [],
   "source": [
    "# Convert indexed labels back to original labels.\n",
    "labelConverter = IndexToString(inputCol=\"prediction\", outputCol = \"predictedLabel\",labels=labelIndexer.labels)"
   ]
  },
  {
   "cell_type": "code",
   "execution_count": 40,
   "id": "bc86a394",
   "metadata": {},
   "outputs": [],
   "source": [
    "# Chain indexers and tree in a Pipeline\n",
    "pipeline = Pipeline(stages=[labelIndexer, featureIndexer, logr, labelConverter])"
   ]
  },
  {
   "cell_type": "code",
   "execution_count": 41,
   "id": "e621f69a",
   "metadata": {},
   "outputs": [
    {
     "name": "stderr",
     "output_type": "stream",
     "text": [
      "                                                                                \r"
     ]
    }
   ],
   "source": [
    "# Training the model with train data.\n",
    "model = pipeline.fit(trainingData)"
   ]
  },
  {
   "cell_type": "code",
   "execution_count": 42,
   "id": "4221c84e",
   "metadata": {},
   "outputs": [
    {
     "name": "stderr",
     "output_type": "stream",
     "text": [
      "[Stage 297:>                                                        (0 + 1) / 1]\r"
     ]
    },
    {
     "name": "stdout",
     "output_type": "stream",
     "text": [
      "+--------------------+-------+--------------+\n",
      "|            features|  label|predictedLabel|\n",
      "+--------------------+-------+--------------+\n",
      "|(664,[0,9,17,218,...|DELAYED|       DELAYED|\n",
      "|(664,[4,10,17,218...|DELAYED|   NOT_DELAYED|\n",
      "|(664,[4,10,78,223...|DELAYED|   NOT_DELAYED|\n",
      "|(664,[4,10,78,223...|DELAYED|   NOT_DELAYED|\n",
      "|(664,[4,10,78,223...|DELAYED|   NOT_DELAYED|\n",
      "+--------------------+-------+--------------+\n",
      "only showing top 5 rows\n",
      "\n"
     ]
    },
    {
     "name": "stderr",
     "output_type": "stream",
     "text": [
      "                                                                                \r"
     ]
    }
   ],
   "source": [
    "# predicting\n",
    "predictions = model.transform(testData)\n",
    "\n",
    "predictions.select(\"features\", \"label\", \"predictedLabel\").show(5)"
   ]
  },
  {
   "cell_type": "code",
   "execution_count": 43,
   "id": "dcef07e4",
   "metadata": {},
   "outputs": [
    {
     "name": "stderr",
     "output_type": "stream",
     "text": [
      "[Stage 299:>                                                        (0 + 6) / 6]\r"
     ]
    },
    {
     "name": "stdout",
     "output_type": "stream",
     "text": [
      "Test Error = 0.372903\n"
     ]
    },
    {
     "name": "stderr",
     "output_type": "stream",
     "text": [
      "                                                                                \r"
     ]
    }
   ],
   "source": [
    "from pyspark.ml.evaluation import MulticlassClassificationEvaluator\n",
    "# calculating accuracy of the model\n",
    "evaluator = MulticlassClassificationEvaluator(\n",
    "labelCol=\"indexedLabel\", predictionCol=\"prediction\", metricName=\"accuracy\")\n",
    "accuracy = evaluator.evaluate(predictions)\n",
    "print(\"Test Error = %g\" % (1.0 - accuracy))\n"
   ]
  },
  {
   "cell_type": "code",
   "execution_count": 44,
   "id": "e5959b73",
   "metadata": {},
   "outputs": [
    {
     "name": "stderr",
     "output_type": "stream",
     "text": [
      "                                                                                \r"
     ]
    },
    {
     "name": "stdout",
     "output_type": "stream",
     "text": [
      "              precision    recall  f1-score   support\n",
      "\n",
      "     DELAYED       0.61      0.59      0.60     38204\n",
      " NOT_DELAYED       0.65      0.66      0.66     43305\n",
      "\n",
      "    accuracy                           0.63     81509\n",
      "   macro avg       0.63      0.63      0.63     81509\n",
      "weighted avg       0.63      0.63      0.63     81509\n",
      "\n"
     ]
    }
   ],
   "source": [
    "#Performance metrics\n",
    "\n",
    "predictions_train = model.transform(trainingData)\n",
    "y_true = predictions_train.select(['label']).collect()\n",
    "y_pred = predictions_train.select(['predictedLabel']).collect()\n",
    "from sklearn.metrics import classification_report, confusion_matrix\n",
    "print(classification_report(y_true, y_pred))"
   ]
  },
  {
   "cell_type": "code",
   "execution_count": 45,
   "id": "7bb6713f",
   "metadata": {},
   "outputs": [],
   "source": [
    "import matplotlib.pyplot as plt\n",
    "import numpy as np\n",
    "import itertools\n",
    "\n",
    "# function to plot confusion matrix\n",
    "def plot_confusion_matrix(cm, classes, normalize=False, title='Confusion matrix', cmap=plt.cm.Blues):\n",
    "    \n",
    "    \"\"\"\"\n",
    "    This function prints and plots the confusion matrix.\n",
    "    Normalization can be applied by setting `normalize=True`.\n",
    "    \"\"\"\n",
    "\n",
    "    if normalize:\n",
    "        cm = cm.astype('float') / cm.sum(axis=1)[:, np.newaxis]\n",
    "        print(\"Normalized confusion matrix\")\n",
    "    else:\n",
    "        print('Confusion matrix, without normalization')\n",
    "        print(cm)\n",
    "    plt.imshow(cm, interpolation='nearest', cmap=cmap)\n",
    "    plt.title(title)\n",
    "    plt.colorbar()\n",
    "    tick_marks = np.arange(len(classes))\n",
    "    plt.xticks(tick_marks, classes, rotation=45)\n",
    "    plt.yticks(tick_marks, classes)\n",
    "    fmt = '.2f' if normalize else 'd'\n",
    "    thresh = cm.max() / 2.\n",
    "    for i, j in itertools.product(range(cm.shape[0]), range(cm.shape[1])):\n",
    "        plt.text(j, i, format(cm[i, j], fmt), horizontalalignment=\"center\", color=\"black\" if cm[i, j] > thresh else \"black\")\n",
    "    plt.tight_layout()\n",
    "    plt.ylabel('True label')\n",
    "    plt.xlabel('Predicted label')"
   ]
  },
  {
   "cell_type": "code",
   "execution_count": 46,
   "id": "2f8a6108",
   "metadata": {},
   "outputs": [
    {
     "name": "stderr",
     "output_type": "stream",
     "text": [
      "                                                                                \r"
     ]
    }
   ],
   "source": [
    "class_temp = predictions.select(\"label\").groupBy(\"label\").count().sort('count', ascending=False).toPandas()\n",
    "class_temp = class_temp[\"label\"].values.tolist()\n",
    "class_names = map(str, class_temp)\n",
    "# # # print(class_names)\n",
    "#print(class_names)\n",
    "#list(class_names)\n",
    "\n",
    "class_names_list = list(class_names)\n"
   ]
  },
  {
   "cell_type": "code",
   "execution_count": 48,
   "id": "7a3159b5",
   "metadata": {},
   "outputs": [
    {
     "name": "stderr",
     "output_type": "stream",
     "text": [
      "                                                                                \r"
     ]
    }
   ],
   "source": [
    "from sklearn.metrics import confusion_matrix\n",
    "y_true = predictions.select(\"label\")\n",
    "y_true = y_true.toPandas()"
   ]
  },
  {
   "cell_type": "code",
   "execution_count": 49,
   "id": "db9a96a6",
   "metadata": {},
   "outputs": [
    {
     "name": "stderr",
     "output_type": "stream",
     "text": [
      "                                                                                \r"
     ]
    },
    {
     "data": {
      "text/plain": [
       "array([[19036,  9953],\n",
       "       [10252, 14942]])"
      ]
     },
     "execution_count": 49,
     "metadata": {},
     "output_type": "execute_result"
    }
   ],
   "source": [
    "y_pred = predictions.select(\"predictedLabel\")\n",
    "y_pred = y_pred.toPandas()\n",
    "cnf_matrix = confusion_matrix(y_true, y_pred, labels = class_names_list)\n",
    "cnf_matrix"
   ]
  },
  {
   "cell_type": "code",
   "execution_count": 50,
   "id": "3c549f28",
   "metadata": {},
   "outputs": [
    {
     "name": "stdout",
     "output_type": "stream",
     "text": [
      "Confusion matrix, without normalization\n",
      "[[19036  9953]\n",
      " [10252 14942]]\n"
     ]
    },
    {
     "data": {
      "image/png": "[encoded data removed]",
      "text/plain": [
       "<Figure size 432x288 with 2 Axes>"
      ]
     },
     "metadata": {
      "needs_background": "light"
     },
     "output_type": "display_data"
    }
   ],
   "source": [
    "# confusion matrix\n",
    "plt.figure()\n",
    "plot_confusion_matrix(cnf_matrix, classes= class_names_list, title='Confusion matrix, without normalization')\n",
    "plt.show()"
   ]
  },
  {
   "cell_type": "code",
   "execution_count": 51,
   "id": "bc641a59",
   "metadata": {},
   "outputs": [
    {
     "name": "stdout",
     "output_type": "stream",
     "text": [
      "Normalized confusion matrix\n"
     ]
    },
    {
     "data": {
      "image/png": "[encoded data removed]",
      "text/plain": [
       "<Figure size 432x288 with 2 Axes>"
      ]
     },
     "metadata": {
      "needs_background": "light"
     },
     "output_type": "display_data"
    }
   ],
   "source": [
    "# normalized confusion matrix\n",
    "plt.figure()\n",
    "plot_confusion_matrix(cnf_matrix, classes = class_names_list, normalize=True, title='Normalized confusion matrix')\n",
    "plt.show()"
   ]
  },
  {
   "cell_type": "code",
   "execution_count": 52,
   "id": "d4a85fef",
   "metadata": {},
   "outputs": [
    {
     "name": "stdout",
     "output_type": "stream",
     "text": [
      "Test Error = 0.372903\n"
     ]
    }
   ],
   "source": [
    "print(\"Test Error = %g\" % (1.0 - accuracy))"
   ]
  }
 ],
 "metadata": {
  "kernelspec": {
   "display_name": "Python 3 (ipykernel)",
   "language": "python",
   "name": "python3"
  },
  "language_info": {
   "codemirror_mode": {
    "name": "ipython",
    "version": 3
   },
   "file_extension": ".py",
   "mimetype": "text/x-python",
   "name": "python",
   "nbconvert_exporter": "python",
   "pygments_lexer": "ipython3",
   "version": "3.9.0"
  }
 },
 "nbformat": 4,
 "nbformat_minor": 5
}
